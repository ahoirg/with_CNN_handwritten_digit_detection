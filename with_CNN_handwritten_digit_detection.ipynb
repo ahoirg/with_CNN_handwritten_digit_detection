{
  "cells": [
    {
      "cell_type": "markdown",
      "metadata": {
        "id": "i43NAOjiEM0O"
      },
      "source": [
        "## Task Description"
      ]
    },
    {
      "cell_type": "markdown",
      "metadata": {
        "id": "5KoYQeQD9sxW"
      },
      "source": [
        "You are given a dataset of handwritten numbers with two digits.\n",
        "Your task is to construct and train a classifier to predict the number from the image input.\n",
        "Specifically, please:\n",
        "Train a deep learning model for this task with testing accuracy over 80%.\n"
      ]
    },
    {
      "cell_type": "markdown",
      "metadata": {
        "id": "AeMDXZxVkmVH"
      },
      "source": [
        "# Loading Data"
      ]
    },
    {
      "cell_type": "markdown",
      "metadata": {
        "id": "ids7uLPK4rDI"
      },
      "source": [
        "## Extract From Zip"
      ]
    },
    {
      "cell_type": "code",
      "execution_count": 42,
      "metadata": {
        "id": "I-Xtzg_oyqHk"
      },
      "outputs": [],
      "source": [
        "import zipfile\n",
        "\n",
        "# Name and path of the ZIP file\n",
        "# you can find the images on https://github.com/ahoirg/with_CNN_handwritten_digit_detection/blob/master/images.zip\n",
        "zip_file_path = 'xxx' ## write images path\n",
        "\n",
        "# Extract the ZIP file to the Colab workspace.\n",
        "with zipfile.ZipFile(zip_file_path, 'r') as zip_ref:\n",
        "    zip_ref.extractall('extracted_images')\n"
      ]
    },
    {
      "cell_type": "markdown",
      "metadata": {
        "id": "-jl6XBj-4vGW"
      },
      "source": [
        "## Load Data and Preparing Data"
      ]
    },
    {
      "cell_type": "code",
      "execution_count": 43,
      "metadata": {
        "id": "dvcdJ-bfcM3H"
      },
      "outputs": [],
      "source": [
        "import os\n",
        "import shutil\n",
        "import random\n",
        "\n",
        "# I want to split the train data into 2 data: train and validation.\n",
        "# When I did this split operation after loading using ImageFolder, the type of the object changed.\n",
        "# That's why I do the split before the Load phase.\n",
        "\n",
        "validation_folder = '/content/extracted_images/images/validation'\n",
        "if not os.path.exists(validation_folder):\n",
        "    os.makedirs(validation_folder)\n",
        "\n",
        "train_folder = '/content/extracted_images/images/train'\n",
        "\n",
        "for i in range(100):\n",
        "    train_subfolder = os.path.join(train_folder, str(i))\n",
        "    validation_subfolder = os.path.join(validation_folder, str(i))\n",
        "\n",
        "    if not os.path.exists(validation_subfolder):\n",
        "        os.makedirs(validation_subfolder)\n",
        "\n",
        "    files = os.listdir(train_subfolder)\n",
        "    random.shuffle(files)\n",
        "\n",
        "    # Move first 2 files to validation folder\n",
        "    for j in range(2):\n",
        "        if files:\n",
        "            file_to_move = files.pop()\n",
        "            source_path = os.path.join(train_subfolder, file_to_move)\n",
        "            dest_path = os.path.join(validation_subfolder, file_to_move)\n",
        "            shutil.move(source_path, dest_path)"
      ]
    },
    {
      "cell_type": "code",
      "execution_count": 44,
      "metadata": {
        "id": "EZhBrmxBihYs"
      },
      "outputs": [],
      "source": [
        "import torchvision.transforms as transforms\n",
        "\n",
        "transform = transforms.Compose([\n",
        "    transforms.Grayscale(num_output_channels=1),  # Convert images to single channel\n",
        "    transforms.Resize((28, 28)),  # Resizes all images to 28x28.\n",
        "    transforms.ToTensor(),  # Converts the image into numbers, that are understandable by the system.\n",
        "    transforms.Normalize(mean=[0.5], std=[0.5])  # Normalization (convert the data from the range [0, 1] to the range [-1, 1]).\n",
        "])"
      ]
    },
    {
      "cell_type": "code",
      "execution_count": 45,
      "metadata": {
        "id": "tgVk_N5kfT9i"
      },
      "outputs": [],
      "source": [
        "from torchvision.datasets import ImageFolder\n",
        "from torch.utils.data import DataLoader\n",
        "\n",
        "train = ImageFolder(root='/content/extracted_images/images/train', transform=transform)\n",
        "validation = ImageFolder(root='/content/extracted_images/images/validation', transform=transform)\n",
        "test = ImageFolder(root='/content/extracted_images/images/test', transform=transform)"
      ]
    },
    {
      "cell_type": "code",
      "execution_count": 46,
      "metadata": {
        "colab": {
          "base_uri": "https://localhost:8080/"
        },
        "id": "YUwEXKqe_2HK",
        "outputId": "d61eb800-7f7b-4e72-9baf-d96ba1b0d720"
      },
      "outputs": [
        {
          "data": {
            "text/plain": [
              "{'0': 0,\n",
              " '1': 1,\n",
              " '10': 2,\n",
              " '11': 3,\n",
              " '12': 4,\n",
              " '13': 5,\n",
              " '14': 6,\n",
              " '15': 7,\n",
              " '16': 8,\n",
              " '17': 9,\n",
              " '18': 10,\n",
              " '19': 11,\n",
              " '2': 12,\n",
              " '20': 13,\n",
              " '21': 14}"
            ]
          },
          "execution_count": 46,
          "metadata": {},
          "output_type": "execute_result"
        }
      ],
      "source": [
        "first_15_class_to_idx = {class_name: class_idx for class_name, class_idx in train.class_to_idx.items() if class_idx < 15}\n",
        "\n",
        "first_15_class_to_idx"
      ]
    },
    {
      "cell_type": "markdown",
      "metadata": {
        "id": "LCUqs6y9d2Gh"
      },
      "source": [
        "Class values ​​and index values ​​are different from each other.\n",
        "In fact, it does not cause any problems in training and testing the Model. The model will already know which label belongs to which class.\n",
        "\n",
        "However, during the **Manual Testing** phase (you can find it below the page), when I present it in a png file, it will be confusing as it will write the label corresponding to the class (for example, it will write 11 for class '19').\n",
        "\n",
        "Therefore, I make the class and label values ​​the same."
      ]
    },
    {
      "cell_type": "code",
      "execution_count": 47,
      "metadata": {
        "colab": {
          "base_uri": "https://localhost:8080/"
        },
        "id": "B0bTdeB9_ulW",
        "outputId": "1904a4bc-d8c4-4bbf-8493-86e7b0d1bc8a"
      },
      "outputs": [
        {
          "data": {
            "text/plain": [
              "{'0': 0,\n",
              " '1': 1,\n",
              " '2': 2,\n",
              " '3': 3,\n",
              " '4': 4,\n",
              " '5': 5,\n",
              " '6': 6,\n",
              " '7': 7,\n",
              " '8': 8,\n",
              " '9': 9,\n",
              " '10': 10,\n",
              " '11': 11,\n",
              " '12': 12,\n",
              " '13': 13,\n",
              " '14': 14}"
            ]
          },
          "execution_count": 47,
          "metadata": {},
          "output_type": "execute_result"
        }
      ],
      "source": [
        "class_to_idx = {}  # An empty dictionary\n",
        "for i in range(100):\n",
        "    class_name = str(i)  # Get the class name\n",
        "    class_to_idx[class_name] = i  # Associate class name with integer value\n",
        "\n",
        "train.class_to_idx = class_to_idx\n",
        "validation.class_to_idx = class_to_idx\n",
        "test.class_to_idx = class_to_idx\n",
        "\n",
        "first_15_class_to_idx = {class_name: class_idx for class_name, class_idx in train.class_to_idx.items() if class_idx < 15}\n",
        "\n",
        "first_15_class_to_idx"
      ]
    },
    {
      "cell_type": "code",
      "execution_count": 48,
      "metadata": {
        "colab": {
          "base_uri": "https://localhost:8080/"
        },
        "id": "uidLq7sM6KF_",
        "outputId": "e433fa6d-fdcc-444f-f36d-5897350cf7c8"
      },
      "outputs": [
        {
          "name": "stdout",
          "output_type": "stream",
          "text": [
            "Number Of Total Train Classes: 100\n",
            "Number Of Total Validation Classes: 100\n",
            "Number Of Total Test Classes: 100\n"
          ]
        }
      ],
      "source": [
        "print(\"Number Of Total Train Classes:\", len(train.classes))\n",
        "\n",
        "print(\"Number Of Total Validation Classes:\", len(validation.classes))\n",
        "\n",
        "print(\"Number Of Total Test Classes:\", len(test.classes))"
      ]
    },
    {
      "cell_type": "markdown",
      "metadata": {
        "id": "T1W5gjd4fDfR"
      },
      "source": [
        "To check if everything is OK, I randomly select a class from 3 data types and print the .png files they represent on the screen."
      ]
    },
    {
      "cell_type": "code",
      "execution_count": 49,
      "metadata": {
        "colab": {
          "base_uri": "https://localhost:8080/",
          "height": 1000
        },
        "id": "8vjqRF6d6202",
        "outputId": "dbbc9c98-6f2f-4dcb-c21f-1e7e4d203147"
      },
      "outputs": [
        {
          "name": "stdout",
          "output_type": "stream",
          "text": [
            "train\n"
          ]
        },
        {
          "data": {
            "image/png": "[encoded data removed]",
            "text/plain": [
              "<Figure size 1500x600 with 10 Axes>"
            ]
          },
          "metadata": {},
          "output_type": "display_data"
        },
        {
          "name": "stdout",
          "output_type": "stream",
          "text": [
            "validation\n"
          ]
        },
        {
          "data": {
            "image/png": "[encoded data removed]",
            "text/plain": [
              "<Figure size 1500x600 with 10 Axes>"
            ]
          },
          "metadata": {},
          "output_type": "display_data"
        },
        {
          "name": "stdout",
          "output_type": "stream",
          "text": [
            "test\n"
          ]
        },
        {
          "data": {
            "image/png": "[encoded data removed]",
            "text/plain": [
              "<Figure size 1500x600 with 10 Axes>"
            ]
          },
          "metadata": {},
          "output_type": "display_data"
        }
      ],
      "source": [
        "import random\n",
        "import os\n",
        "from PIL import Image\n",
        "import matplotlib.pyplot as plt\n",
        "\n",
        "data_dir = '/content/extracted_images/images'\n",
        "temp_dataset = ['train','validation','test']\n",
        "\n",
        "for k in range(3):\n",
        "\n",
        "  if k == 0:\n",
        "    selected_classes = random.sample(train.classes, 10)\n",
        "  elif k == 1:\n",
        "    selected_classes = random.sample(validation.classes, 10)\n",
        "  else:\n",
        "    selected_classes = random.sample(test.classes, 10)\n",
        "\n",
        "  # Show images of 10 different classes in one drawing\n",
        "  plt.figure(figsize=(15, 6))\n",
        "\n",
        "  for i, selected_class in enumerate(selected_classes, 1):\n",
        "      plt.subplot(2, 5, i)\n",
        "      plt.title(f\"Class: {selected_class}\")\n",
        "\n",
        "      # Find the folder path of the selected class\n",
        "      class_dir = os.path.join(data_dir, temp_dataset[k], selected_class)\n",
        "\n",
        "      # Randomly select an image within the folder\n",
        "      random_image_name = random.choice(os.listdir(class_dir))\n",
        "      image_path = os.path.join(class_dir, random_image_name)\n",
        "\n",
        "      # Upload the image and show it on the screen\n",
        "      image = Image.open(image_path)\n",
        "      plt.imshow(image)\n",
        "      plt.axis('off')\n",
        "\n",
        "  print(temp_dataset[k])\n",
        "  plt.tight_layout()\n",
        "  plt.show()\n"
      ]
    },
    {
      "cell_type": "markdown",
      "metadata": {
        "id": "okCyUnGXKzvB"
      },
      "source": [
        "### Preparing Data"
      ]
    },
    {
      "cell_type": "code",
      "execution_count": 50,
      "metadata": {
        "id": "fYJLBlbNjsVA"
      },
      "outputs": [],
      "source": [
        "train_loader = DataLoader(train, batch_size=64 , shuffle= True)\n",
        "validation_loader = DataLoader(validation, batch_size=64 , shuffle= True)\n",
        "test_loader = DataLoader(test, batch_size=64 , shuffle= True)"
      ]
    },
    {
      "cell_type": "code",
      "execution_count": 51,
      "metadata": {
        "colab": {
          "base_uri": "https://localhost:8080/"
        },
        "id": "HhFq8mH4nugp",
        "outputId": "338893a5-adf5-496f-92e9-99952c7c3e3e"
      },
      "outputs": [
        {
          "name": "stdout",
          "output_type": "stream",
          "text": [
            "torch.Size([64, 1, 28, 28])\n",
            "torch.Size([64])\n"
          ]
        }
      ],
      "source": [
        "dataiter = iter(train_loader)\n",
        "images, labels = next(dataiter)\n",
        "\n",
        "print(images.shape)\n",
        "print(labels.shape)"
      ]
    },
    {
      "cell_type": "code",
      "execution_count": 52,
      "metadata": {
        "colab": {
          "base_uri": "https://localhost:8080/",
          "height": 68
        },
        "id": "ytqnwgpqqy3G",
        "outputId": "0a6a6a8b-3580-4db1-9332-e3d9cee26f47"
      },
      "outputs": [
        {
          "data": {
            "image/png": "[encoded data removed]",
            "text/plain": [
              "<Figure size 640x480 with 10 Axes>"
            ]
          },
          "metadata": {},
          "output_type": "display_data"
        }
      ],
      "source": [
        "import matplotlib.pyplot as plt\n",
        "\n",
        "figure = plt.figure()\n",
        "num_of_images = 10\n",
        "for index in range(1, num_of_images + 1):\n",
        "    plt.subplot(10, 10, index)\n",
        "    plt.axis('off')\n",
        "    plt.imshow(images[index].numpy().squeeze(), cmap='gray_r')\n"
      ]
    },
    {
      "cell_type": "markdown",
      "metadata": {
        "id": "DP9o9TEystQ_"
      },
      "source": [
        "# Train a deep learning model"
      ]
    },
    {
      "cell_type": "markdown",
      "metadata": {
        "id": "AZOzpKrsxIpD"
      },
      "source": [
        "## Train and Test Model"
      ]
    },
    {
      "cell_type": "markdown",
      "metadata": {
        "id": "rk6ntYCTREEn"
      },
      "source": [
        "### Convolutional Neural Networks"
      ]
    },
    {
      "cell_type": "markdown",
      "metadata": {
        "id": "CsZTBN2Pgc2E"
      },
      "source": [
        "#### Define a CNN model"
      ]
    },
    {
      "cell_type": "code",
      "execution_count": 53,
      "metadata": {
        "id": "2mwe8bhDuxOk"
      },
      "outputs": [],
      "source": [
        "import torch.nn as nn\n",
        "\n",
        "class CNN(nn.Module):\n",
        "    def __init__(self):\n",
        "        super(CNN, self).__init__()\n",
        "        # Convolution layers\n",
        "        self.conv1 = nn.Conv2d(1, 32, 3)\n",
        "        self.conv2 = nn.Conv2d(32, 64, 3)\n",
        "        # Fully connected layers\n",
        "        self.fc1 = nn.Linear(64 * 5 * 5, 128)\n",
        "        self.fc2 = nn.Linear(128, 100)  # Output layer for 100 classes\n",
        "\n",
        "    def forward(self, x):\n",
        "        x = self.conv1(x)\n",
        "        x = nn.functional.relu(x)\n",
        "        x = nn.functional.max_pool2d(x, 2)\n",
        "        x = self.conv2(x)\n",
        "        x = nn.functional.relu(x)\n",
        "        x = nn.functional.max_pool2d(x, 2)\n",
        "        x = x.view(-1, 64 * 5 * 5)\n",
        "        x = self.fc1(x)\n",
        "        x = nn.functional.relu(x)\n",
        "        x = self.fc2(x)\n",
        "        x = nn.functional.log_softmax(x, dim=1)\n",
        "        return x\n"
      ]
    },
    {
      "cell_type": "markdown",
      "metadata": {
        "id": "_QGT4wl8h0QJ"
      },
      "source": [
        "### Train The CNN Model"
      ]
    },
    {
      "cell_type": "code",
      "execution_count": 88,
      "metadata": {
        "id": "GVpRhAs8MMTH"
      },
      "outputs": [],
      "source": [
        "from torch import optim\n",
        "\n",
        "# Create the model\n",
        "# The model is reset every time \"model = CNN()\" is run.\n",
        "model = CNN()\n",
        "\n",
        "criterion = nn.CrossEntropyLoss() # Loss function\n",
        "\n",
        "# I tried different optimization algorithms and learning_rate\n",
        "# until I find the best accuracy.\n",
        "optimizer = optim.Adam(model.parameters(), lr=0.002) # Result Accurancy Rate: 92.90%\n",
        "#optimizer = optim.RMSprop(model.parameters(), lr=0.002) # Result Accurancy Rate: 89.20%\n",
        "\n",
        "# Training cycle\n",
        "for epoch in range(40):\n",
        "    model.train()  # Put the model in training mode\n",
        "    for batch_data, batch_labels in train_loader:\n",
        "        optimizer.zero_grad()\n",
        "        outputs = model(batch_data)\n",
        "        loss = criterion(outputs, batch_labels)  # Calculate the loss\n",
        "        loss.backward()  # Calculate backward gradient\n",
        "        optimizer.step()  # Update parameters"
      ]
    },
    {
      "cell_type": "markdown",
      "metadata": {
        "id": "qwec_aTcjvFc"
      },
      "source": [
        "### Define 'test_CNN_model' function to test and validation data\n",
        "\n",
        "Since I do not want to write the same code over and over again for testing, validation, I defined a function.\n"
      ]
    },
    {
      "cell_type": "code",
      "execution_count": 55,
      "metadata": {
        "id": "KmWb4Kv5jtvM"
      },
      "outputs": [],
      "source": [
        "import torch\n",
        "\n",
        "def test_CNN_model(_dataset):\n",
        "\tmodel.eval()  # Put the model in evaluation mode\n",
        "\tcorrect = 0\n",
        "\ttotal = 0\n",
        "\n",
        "\twith torch.no_grad():\n",
        "\t\tfor batch_data, batch_labels in _dataset:\n",
        "\t\t\toutputs = model(batch_data)\n",
        "\t\t\t_, predicted = torch.max(outputs, 1)\n",
        "\t\t\ttotal += batch_labels.size(0)\n",
        "\t\t\tcorrect += (predicted == batch_labels).sum().item()\n",
        "\t\t\taccuracy = 100 * correct / total\n",
        "\n",
        "\tprint(f'Result Accurancy Rate: {accuracy:.2f}%')"
      ]
    },
    {
      "cell_type": "markdown",
      "metadata": {
        "id": "A8mW1AzcPZdw"
      },
      "source": [
        "## Validation"
      ]
    },
    {
      "cell_type": "code",
      "execution_count": 89,
      "metadata": {
        "colab": {
          "base_uri": "https://localhost:8080/"
        },
        "id": "zUDeMVVBrh2b",
        "outputId": "1eb3c2e1-6b84-4ce6-f657-05971f35ca2e"
      },
      "outputs": [
        {
          "name": "stdout",
          "output_type": "stream",
          "text": [
            "Result Accurancy Rate: 97.44%\n"
          ]
        }
      ],
      "source": [
        "test_CNN_model(validation_loader)"
      ]
    },
    {
      "cell_type": "markdown",
      "metadata": {
        "id": "ofX0Apd9kWpJ"
      },
      "source": [
        "\n",
        "The accuracy rate requested in the Task is 80%.\n",
        "\n",
        "My target is 90%. Since I have achieved this goal, I stop improving the model and move on to the testing phase."
      ]
    },
    {
      "cell_type": "markdown",
      "metadata": {
        "id": "Kio6zBwThU17"
      },
      "source": [
        "## Test"
      ]
    },
    {
      "cell_type": "code",
      "execution_count": 90,
      "metadata": {
        "colab": {
          "base_uri": "https://localhost:8080/"
        },
        "id": "yyOfce-hisOc",
        "outputId": "120e485f-ca52-4864-dd26-c1fbaa70f895"
      },
      "outputs": [
        {
          "name": "stdout",
          "output_type": "stream",
          "text": [
            "Result Accurancy Rate: 93.50%\n"
          ]
        }
      ],
      "source": [
        "test_CNN_model(test_loader)"
      ]
    },
    {
      "cell_type": "markdown",
      "metadata": {
        "id": "A4m2e5C1k2M-"
      },
      "source": [
        "---\n",
        "\n",
        "**Result Accurancy Rate for test data: 93.50%.**\n",
        "\n",
        "---\n"
      ]
    },
    {
      "cell_type": "markdown",
      "metadata": {
        "id": "p-pZ0E3EmNFv"
      },
      "source": [
        "## Addition Part\n",
        "\n",
        "\n",
        "In addition to Task, I want to add 2 more features.\n",
        "\n",
        "1) I want to save the model I trained.\n",
        "(You can also load this model that I trained and put it to another test.)\n",
        "\n",
        "2) Manual testing. I'll show the model a few images and ask for its prediction."
      ]
    },
    {
      "cell_type": "markdown",
      "metadata": {
        "id": "Hj5Nhtv5nQn_"
      },
      "source": [
        "### Save the model"
      ]
    },
    {
      "cell_type": "code",
      "execution_count": 58,
      "metadata": {
        "id": "yHeUmUWKnJrd"
      },
      "outputs": [],
      "source": [
        "#######\n",
        "# You don't need to run this code again.\n",
        "#######\n",
        "import torch\n",
        "torch.save(model.state_dict(), \"CNN_model.pth\")"
      ]
    },
    {
      "cell_type": "markdown",
      "metadata": {
        "id": "ndIBDMSonhp1"
      },
      "source": [
        "### Load The CNN Model"
      ]
    },
    {
      "cell_type": "code",
      "execution_count": 91,
      "metadata": {
        "colab": {
          "base_uri": "https://localhost:8080/",
          "height": 105
        },
        "id": "7CqtcKWsuD0-",
        "outputId": "504c3e57-4e8d-493d-cab2-e67ef258cede"
      },
      "outputs": [
        {
          "name": "stderr",
          "output_type": "stream",
          "text": [
            "Downloading...\n",
            "From: https://drive.google.com/uc?id=18efEU7Ivd1d2FNLaa9uMbFGRFe8v-YuE\n",
            "To: /content/CNN_model.pth\n",
            "100%|██████████| 949k/949k [00:00<00:00, 102MB/s]\n"
          ]
        },
        {
          "data": {
            "application/vnd.google.colaboratory.intrinsic+json": {
              "type": "string"
            },
            "text/plain": [
              "'CNN_model.pth'"
            ]
          },
          "execution_count": 91,
          "metadata": {},
          "output_type": "execute_result"
        }
      ],
      "source": [
        "#######\n",
        "# You must run this code part to copy the model I trained  from my drive.\n",
        "# After this code runs, you will see a copy of it in the environment you are working in.\n",
        "#######\n",
        "import gdown\n",
        "\n",
        "file_url = 'https://drive.google.com/uc?id=18efEU7Ivd1d2FNLaa9uMbFGRFe8v-YuE'\n",
        "file_name = 'CNN_model.pth'\n",
        "gdown.download(file_url, file_name, quiet=False)\n"
      ]
    },
    {
      "cell_type": "code",
      "execution_count": 92,
      "metadata": {
        "colab": {
          "base_uri": "https://localhost:8080/"
        },
        "id": "2JX0JgpDnoVy",
        "outputId": "ffea2e23-52f0-4f10-a9d2-3362850ce5db"
      },
      "outputs": [
        {
          "data": {
            "text/plain": [
              "<All keys matched successfully>"
            ]
          },
          "execution_count": 92,
          "metadata": {},
          "output_type": "execute_result"
        }
      ],
      "source": [
        "#######\n",
        "# You must run the \"Convolutional Neural Networks\" part once.\n",
        "# So you can run the CNN() model.\n",
        "#######\n",
        "import torch\n",
        "\n",
        "loaded_model = CNN()\n",
        "loaded_model.load_state_dict(torch.load(\"CNN_model.pth\"))"
      ]
    },
    {
      "cell_type": "markdown",
      "metadata": {
        "id": "PkD4XolL5s8C"
      },
      "source": [
        "\n",
        "If you see \"**All keys matched successfully**\", the model has been loaded and everything is fine."
      ]
    },
    {
      "cell_type": "markdown",
      "metadata": {
        "id": "-y6dU_dXj_TS"
      },
      "source": [
        "### Manual(Individual) Test"
      ]
    },
    {
      "cell_type": "code",
      "execution_count": 61,
      "metadata": {
        "id": "aPO0COLnOUN1"
      },
      "outputs": [],
      "source": [
        "import torch\n",
        "from torchvision import transforms\n",
        "from PIL import Image\n",
        "import matplotlib.pyplot as plt\n",
        "\n",
        "def compute_accuracy(predictions, labels):\n",
        "\n",
        "    correct = (predictions == labels).sum().item() # Count the number of times the predictions were correct\n",
        "    total = labels.size(0) # Calculate the total number of samples\n",
        "    accuracy = correct / total\n",
        "    return accuracy\n",
        "\n",
        "def create_transform():\n",
        "    transform = transforms.Compose([\n",
        "    transforms.Grayscale(num_output_channels=1),\n",
        "    transforms.Resize((28, 28)),\n",
        "    transforms.ToTensor(),\n",
        "    transforms.Normalize(mean=[0.5], std=[0.5])\n",
        "    ])\n",
        "\n",
        "def show_image_and_prediction(path):\n",
        "    create_transform()\n",
        "\n",
        "    image = Image.open(path)\n",
        "    image = transform(image).unsqueeze(0)  # Convert image to tensor and adjust its size\n",
        "\n",
        "\n",
        "    # Example path: \"/content/extracted_images/images/test/1/107.png\"\n",
        "    # The folder name gives the expected number. Ex: .../1/107.png\n",
        "    parts = path.split('/')\n",
        "    actual_number_str = parts[-2]\n",
        "    actual_number = int(actual_number_str)\n",
        "\n",
        "    with torch.no_grad():\n",
        "        loaded_model.eval()\n",
        "        prediction = loaded_model(image)\n",
        "        predicted_class = torch.argmax(prediction, dim=1).item()\n",
        "        print(f\"Predicted: {predicted_class}\" +f\"\\nActual: {actual_number}\" )\n",
        "\n",
        "        # Calculate and print accuracy\n",
        "        labels = torch.tensor([actual_number])  # Convert real labels to tensor\n",
        "        accuracy = compute_accuracy(predicted_class, labels)\n",
        "        print(f\"Accuracy: {accuracy * 100:.2f}%\")\n",
        "\n",
        "\n",
        "    image_np = image.squeeze().numpy()\n",
        "    plt.imshow(image_np, cmap='gray_r')\n",
        "    plt.axis('off')\n",
        "    plt.show()\n",
        "    print(\"\\n\" )\n"
      ]
    },
    {
      "cell_type": "code",
      "execution_count": 93,
      "metadata": {
        "colab": {
          "base_uri": "https://localhost:8080/",
          "height": 1000
        },
        "id": "8lJc8W3VOHhM",
        "outputId": "a6b1fafd-70dc-4c87-8872-2854f2267a77"
      },
      "outputs": [
        {
          "name": "stdout",
          "output_type": "stream",
          "text": [
            "Predicted: 90\n",
            "Actual: 90\n",
            "Accuracy: 100.00%\n"
          ]
        },
        {
          "data": {
            "image/png": "[encoded data removed]",
            "text/plain": [
              "<Figure size 640x480 with 1 Axes>"
            ]
          },
          "metadata": {},
          "output_type": "display_data"
        },
        {
          "name": "stdout",
          "output_type": "stream",
          "text": [
            "\n",
            "\n",
            "Predicted: 0\n",
            "Actual: 0\n",
            "Accuracy: 100.00%\n"
          ]
        },
        {
          "data": {
            "image/png": "[encoded data removed]",
            "text/plain": [
              "<Figure size 640x480 with 1 Axes>"
            ]
          },
          "metadata": {},
          "output_type": "display_data"
        },
        {
          "name": "stdout",
          "output_type": "stream",
          "text": [
            "\n",
            "\n",
            "Predicted: 26\n",
            "Actual: 32\n",
            "Accuracy: 0.00%\n"
          ]
        },
        {
          "data": {
            "image/png": "[encoded data removed]",
            "text/plain": [
              "<Figure size 640x480 with 1 Axes>"
            ]
          },
          "metadata": {},
          "output_type": "display_data"
        },
        {
          "name": "stdout",
          "output_type": "stream",
          "text": [
            "\n",
            "\n",
            "Predicted: 99\n",
            "Actual: 99\n",
            "Accuracy: 100.00%\n"
          ]
        },
        {
          "data": {
            "image/png": "[encoded data removed]",
            "text/plain": [
              "<Figure size 640x480 with 1 Axes>"
            ]
          },
          "metadata": {},
          "output_type": "display_data"
        },
        {
          "name": "stdout",
          "output_type": "stream",
          "text": [
            "\n",
            "\n"
          ]
        }
      ],
      "source": [
        "images_paths  = [\"/content/extracted_images/images/test/90/24.png\",\n",
        "              \"/content/extracted_images/images/test/0/267.png\",\n",
        "              \"/content/extracted_images/images/test/32/477.png\",\n",
        "              \"/content/extracted_images/images/test/99/154.png\"]\n",
        "\n",
        "for image_path in images_paths:\n",
        "  show_image_and_prediction(image_path)\n"
      ]
    }
  ],
  "metadata": {
    "colab": {
      "collapsed_sections": [
        "AZOzpKrsxIpD",
        "p-pZ0E3EmNFv"
      ],
      "provenance": []
    },
    "kernelspec": {
      "display_name": "Python 3",
      "name": "python3"
    },
    "language_info": {
      "name": "python"
    }
  },
  "nbformat": 4,
  "nbformat_minor": 0
}
